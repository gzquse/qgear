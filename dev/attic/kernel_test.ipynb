{
 "cells": [
  {
   "cell_type": "code",
   "execution_count": 1,
   "id": "a5405a18-ea93-4c01-a135-49b9049a6951",
   "metadata": {
    "tags": []
   },
   "outputs": [],
   "source": [
    "import cudaq"
   ]
  },
  {
   "cell_type": "code",
   "execution_count": 45,
   "id": "b472d9a0-f923-4121-abdd-4ca0a109f3f4",
   "metadata": {
    "tags": []
   },
   "outputs": [
    {
     "name": "stdout",
     "output_type": "stream",
     "text": [
      "['_QuakeValue__checkTypesAndCreateQuakeValue', '_QuakeValue__floatToVal', '_QuakeValue__intToFloat', '_QuakeValue__intToVal', '__add__', '__class__', '__delattr__', '__dict__', '__dir__', '__doc__', '__eq__', '__format__', '__ge__', '__getattribute__', '__getitem__', '__gt__', '__hash__', '__init__', '__init_subclass__', '__le__', '__lt__', '__module__', '__mul__', '__ne__', '__neg__', '__new__', '__radd__', '__reduce__', '__reduce_ex__', '__repr__', '__rmul__', '__rsub__', '__rtruediv__', '__setattr__', '__sizeof__', '__str__', '__sub__', '__subclasshook__', '__truediv__', '__weakref__', 'ctx', 'floatType', 'intType', 'knownUniqueExtractions', 'mlirValue', 'pyKernel', 'size', 'slice']\n"
     ]
    }
   ],
   "source": [
    "kernel, int_value, float_value = cudaq.make_kernel(int, float)\n",
    "print(dir(int_value))"
   ]
  },
  {
   "cell_type": "code",
   "execution_count": 3,
   "id": "86e94bf2-6509-4107-8933-2c20aedb2a7a",
   "metadata": {
    "tags": []
   },
   "outputs": [
    {
     "name": "stdout",
     "output_type": "stream",
     "text": [
      "\u001b[?1l\u001b>/A   28C    P0    51W / 400W |\u001b[6C0MiB / 40960MiB |\u001b[6C0%\u001b[6CDefault |-----+22:34:37 2024\u001b[3;1HSun Jun 23 22:34:37 2024\u001b[1;75H9\u001b[3;19H9\u001b[12;9H30\u001b[12;23H8\u001b[44\u001b[46\u001b[46\u001b[56C\u001b[1;74H41\u001b[3;18H41\u001b[12;23H6\u001b[16;10H8\u001b[16;23H5\u001b[45\u001b[43\u001b[56C\u001b[1;75H3\u001b[3;19H3\u001b[12;23H5\u001b[48\u001b[20;9H30\u001b[20;23H8\u001b[24;10H9\u001b[24;23H7\u001b[56C\u001b[1;75H5\u001b[3;19H5\u001b[12;23H8\u001b[44\u001b[47\u001b[24;80H\u001b[1;75H7\u001b[3;19H7\u001b[12;23H2\u001b[47\u001b[46\u001b[24;10H8\u001b[24;23H5\u001b[56C\u001b[1;75H9\u001b[3;19H9\u001b[12;23H8\u001b[44\u001b[47\u001b[24;10H9\u001b[24;23H8\u001b[56C\u001b[1;74H52\u001b[3;18H52\u001b[12;23H6\u001b[20;9H29\u001b[20;23H5\u001b[24;10H8\u001b[24;23H4\u001b[56C\u001b[1;75H4\u001b[3;19H4\u001b[12;23H5\u001b[47\u001b[20;9H30\u001b[20;23H7\u001b[46\u001b[56C\u001b[1;75H6\u001b[3;19H6\u001b[12;23H9\u001b[45\u001b[48\u001b[24;10H9\u001b[24;23H8\u001b[56C\u001b[1;75H8\u001b[3;19H8\u001b[12;23H6\u001b[20;9H29\u001b[20;23H5\u001b[24;10H8\u001b[24;23H5\u001b[56C\u001b[24;1H\u001b[2J\u001b[?47l\u001b8"
     ]
    }
   ],
   "source": [
    "!watch -n 1 nvidia-smi"
   ]
  },
  {
   "cell_type": "markdown",
   "id": "0fab5467-611f-407b-be98-e2bf3a6ac2ba",
   "metadata": {},
   "source": [
    "cpu 22 qubits"
   ]
  },
  {
   "cell_type": "code",
   "execution_count": 2,
   "id": "fc09fdfd-faa8-4291-916e-3b4c3af0b60e",
   "metadata": {
    "tags": []
   },
   "outputs": [
    {
     "name": "stdout",
     "output_type": "stream",
     "text": [
      "^C\n",
      " CTRL-C caught in cudaq runtime.\n"
     ]
    }
   ],
   "source": [
    "!time python3 ghz.py"
   ]
  },
  {
   "cell_type": "markdown",
   "id": "11ea0f09-b594-4b2a-8be0-ef2ff409001f",
   "metadata": {},
   "source": [
    "single gpu 10 qubits"
   ]
  },
  {
   "cell_type": "code",
   "execution_count": 21,
   "id": "407b9f9b-887b-4a70-8a8d-5f693b2ca97c",
   "metadata": {
    "tags": []
   },
   "outputs": [
    {
     "name": "stdout",
     "output_type": "stream",
     "text": [
      "{ 0000000000:486 1111111111:514 }\n",
      "\n",
      "real\t0m4.306s\n",
      "user\t0m1.581s\n",
      "sys\t0m7.923s\n"
     ]
    }
   ],
   "source": [
    "!time python3 ghz.py"
   ]
  },
  {
   "cell_type": "code",
   "execution_count": null,
   "id": "5b1fa976-2341-4a89-9830-a85d8e5fc9d7",
   "metadata": {
    "tags": []
   },
   "outputs": [],
   "source": [
    "!pip install cuda-quantum"
   ]
  },
  {
   "cell_type": "code",
   "execution_count": 22,
   "id": "117d07ff-0a39-475c-b321-b69338b55d5c",
   "metadata": {},
   "outputs": [],
   "source": [
    "# This example is meant to demonstrate the cuQuantum\n",
    "# GPU-accelerated backends and their ability to easily handle\n",
    "# a larger number of qubits compared the CPU-only backend.\n",
    "#\n",
    "# This will take a noticeably longer time to execute on\n",
    "# CPU-only backends.\n",
    "\n",
    "import cudaq\n",
    "\n",
    "qubit_count = 5\n",
    "# We can set a larger `qubit_count` if running on a GPU backend.\n",
    "# qubit_count = 28\n",
    "\n",
    "\n",
    "@cudaq.kernel\n",
    "def kernel(qubit_count: int, nq: int, fl: float, layers:list[int], layers2: list[int], flll: list[float]):\n",
    "    qvector = cudaq.qvector(qubit_count)\n",
    "    h(qvector)\n",
    "    for qubit in range(qubit_count - 1):\n",
    "        x.ctrl(qvector[qubit], qvector[qubit + 1])\n",
    "    mz(qvector)\n",
    "\n",
    "\n",
    "result = cudaq.sample(kernel, qubit_count, 1,1.4, [1, 2, 3],[1,2,3], [1.4,1.3], shots_count=100)\n",
    "result.dump()"
   ]
  },
  {
   "cell_type": "code",
   "execution_count": 15,
   "id": "d3140713-98c0-4c92-893f-2ea57427e6cb",
   "metadata": {
    "tags": []
   },
   "outputs": [
    {
     "ename": "RuntimeError",
     "evalue": "Invalid simulator requested: custatevec_fp32",
     "output_type": "error",
     "traceback": [
      "\u001b[0;31m---------------------------------------------------------------------------\u001b[0m",
      "\u001b[0;31mRuntimeError\u001b[0m                              Traceback (most recent call last)",
      "Cell \u001b[0;32mIn[15], line 4\u001b[0m\n\u001b[1;32m      1\u001b[0m \u001b[38;5;28;01mimport\u001b[39;00m \u001b[38;5;21;01mcudaq\u001b[39;00m\n\u001b[0;32m----> 4\u001b[0m \u001b[43mcudaq\u001b[49m\u001b[38;5;241;43m.\u001b[39;49m\u001b[43mset_target\u001b[49m\u001b[43m(\u001b[49m\u001b[38;5;124;43m\"\u001b[39;49m\u001b[38;5;124;43mnvidia-mqpu\u001b[39;49m\u001b[38;5;124;43m\"\u001b[39;49m\u001b[43m)\u001b[49m\n\u001b[1;32m      5\u001b[0m qpu_count \u001b[38;5;241m=\u001b[39m cudaq\u001b[38;5;241m.\u001b[39mnum_available_gpus()\n\u001b[1;32m      6\u001b[0m target \u001b[38;5;241m=\u001b[39m cudaq\u001b[38;5;241m.\u001b[39mget_target()\n",
      "\u001b[0;31mRuntimeError\u001b[0m: Invalid simulator requested: custatevec_fp32"
     ]
    }
   ],
   "source": [
    "import cudaq\n",
    "\n",
    "\n",
    "cudaq.set_target(\"nvidia-mqpu\")\n",
    "qpu_count = cudaq.num_available_gpus()\n",
    "target = cudaq.get_target()\n",
    "qpu = target.num_qpus()\n",
    "print(\"Number of GPUs:\", qpu_count)\n",
    "print(\"Number of QPUs:\", qpu)"
   ]
  },
  {
   "cell_type": "code",
   "execution_count": 16,
   "id": "e97a5b8c-62cc-4c43-96b5-1012e5e2093e",
   "metadata": {
    "tags": []
   },
   "outputs": [
    {
     "name": "stdout",
     "output_type": "stream",
     "text": [
      "Target nvidia-mqpu-fp64\n",
      "\tsimulator=custatevec_fp64\n",
      "\tplatform=mqpu\n",
      "\tdescription=The NVIDIA MQPU FP64 Target provides a simulated QPU for every available CUDA GPU on the underlying system. Each QPU is simulated via cuStateVec FP64.\n",
      "\n",
      "Target density-matrix-cpu\n",
      "\tsimulator=dm\n",
      "\tplatform=default\n",
      "\tdescription=The Density Matrix CPU Target provides a simulated QPU via OpenMP-enabled, CPU-only density matrix emulation.\n",
      "\n",
      "Target iqm\n",
      "\tsimulator=qpp\n",
      "\tplatform=default\n",
      "\tdescription=\n",
      "\n",
      "Target tensornet\n",
      "\tsimulator=tensornet\n",
      "\tplatform=default\n",
      "\tdescription=\n",
      "\n",
      "Target nvidia-mqpu\n",
      "\tsimulator=custatevec_fp32\n",
      "\tplatform=mqpu\n",
      "\tdescription=The NVIDIA MQPU Target provides a simulated QPU for every available CUDA GPU on the underlying system. Each QPU is simulated via cuStateVec FP32. This target enables asynchronous parallel execution of quantum kernel tasks.\n",
      "\n",
      "Target qpp-cpu\n",
      "\tsimulator=qpp\n",
      "\tplatform=default\n",
      "\tdescription=QPP-based CPU-only backend target\n",
      "\n",
      "Target remote-mqpu\n",
      "\tsimulator=qpp\n",
      "\tplatform=mqpu\n",
      "\tdescription=\n",
      "\n",
      "Target orca\n",
      "\tsimulator=qpp\n",
      "\tplatform=default\n",
      "\tdescription=\n",
      "\n",
      "Target nvqc\n",
      "\tsimulator=qpp\n",
      "\tplatform=mqpu\n",
      "\tdescription=\n",
      "\n",
      "Target tensornet-mps\n",
      "\tsimulator=tensornet_mps\n",
      "\tplatform=default\n",
      "\tdescription=\n",
      "\n",
      "Target photonics\n",
      "\tsimulator=qpp\n",
      "\tplatform=default\n",
      "\tdescription=\n",
      "\n",
      "Target quantinuum\n",
      "\tsimulator=qpp\n",
      "\tplatform=default\n",
      "\tdescription=\n",
      "\n",
      "Target nvidia\n",
      "\tsimulator=custatevec_fp32\n",
      "\tplatform=default\n",
      "\tdescription=The NVIDIA Target provides a simulated QPU via single-GPU cuStateVec integration on FP32 types.\n",
      "\n",
      "Target nvidia-fp64\n",
      "\tsimulator=custatevec_fp64\n",
      "\tplatform=default\n",
      "\tdescription=The NVIDIA FP64 Target provides a simulated QPU via single-GPU cuStateVec integration on FP64 types.\n",
      "\n",
      "Target oqc\n",
      "\tsimulator=qpp\n",
      "\tplatform=default\n",
      "\tdescription=\n",
      "\n",
      "Target ionq\n",
      "\tsimulator=qpp\n",
      "\tplatform=default\n",
      "\tdescription=\n",
      "\n",
      "Target nvidia-mgpu\n",
      "\tsimulator=nvidia_mgpu\n",
      "\tplatform=default\n",
      "\tdescription=\n",
      "\n"
     ]
    }
   ],
   "source": [
    "import cudaq\n",
    "\n",
    "targets = cudaq.get_targets()\n",
    "for target in targets:\n",
    "    print(target)"
   ]
  },
  {
   "cell_type": "code",
   "execution_count": null,
   "id": "f9f11f5c-66c4-46c2-aeb3-4d5da7c7db10",
   "metadata": {},
   "outputs": [],
   "source": []
  },
  {
   "cell_type": "code",
   "execution_count": 49,
   "id": "eed5b3ab-fb8b-4dfd-b2ab-a073372158c8",
   "metadata": {
    "tags": []
   },
   "outputs": [
    {
     "ename": "AttributeError",
     "evalue": "'NoneType' object has no attribute 'name'",
     "output_type": "error",
     "traceback": [
      "\u001b[0;31m---------------------------------------------------------------------------\u001b[0m",
      "\u001b[0;31mAttributeError\u001b[0m                            Traceback (most recent call last)",
      "Cell \u001b[0;32mIn[49], line 8\u001b[0m\n\u001b[1;32m      3\u001b[0m kernel\u001b[38;5;241m.\u001b[39mx(qubits)\n\u001b[1;32m      5\u001b[0m \u001b[38;5;66;03m# Get the state of the system. This will execute the provided kernel\u001b[39;00m\n\u001b[1;32m      6\u001b[0m \u001b[38;5;66;03m# and, depending on the selected target, will return the state as a\u001b[39;00m\n\u001b[1;32m      7\u001b[0m \u001b[38;5;66;03m# vector or matrix.\u001b[39;00m\n\u001b[0;32m----> 8\u001b[0m \u001b[43mcudaq\u001b[49m\u001b[38;5;241;43m.\u001b[39;49m\u001b[43mget_state\u001b[49m\u001b[43m(\u001b[49m\u001b[43mkernel\u001b[49m\u001b[43m(\u001b[49m\u001b[38;5;241;43m3\u001b[39;49m\u001b[43m,\u001b[49m\u001b[43m \u001b[49m\u001b[38;5;241;43m3.14\u001b[39;49m\u001b[43m)\u001b[49m\u001b[43m)\u001b[49m\n\u001b[1;32m      9\u001b[0m \u001b[38;5;28mprint\u001b[39m(state)\n",
      "\u001b[0;31mAttributeError\u001b[0m: 'NoneType' object has no attribute 'name'"
     ]
    }
   ],
   "source": [
    "qubits = kernel.qalloc(3)\n",
    "# Prepare qubits in the 1-state.\n",
    "kernel.x(qubits)\n",
    "\n",
    "# Get the state of the system. This will execute the provided kernel\n",
    "# and, depending on the selected target, will return the state as a\n",
    "# vector or matrix.\n",
    "kernel(3, 3.14)\n",
    "cudaq.get_state()\n",
    "print(state)"
   ]
  },
  {
   "cell_type": "code",
   "execution_count": 1,
   "id": "b671a9f2-573a-47f5-bc63-66637dfcf0e1",
   "metadata": {
    "tags": []
   },
   "outputs": [
    {
     "name": "stdout",
     "output_type": "stream",
     "text": [
      "Number of QPUs: 1\n",
      "{ 10011:31 01100:32 00011:34 10101:43 00110:34 11111:35 01000:25 11000:25 00100:27 11010:28 00010:29 01101:25 01110:32 01010:32 01111:38 11110:30 10010:37 00111:32 11100:34 10111:35 10000:28 11011:33 10100:31 10110:34 00001:33 10001:21 00000:34 01001:33 11101:27 11001:30 00101:25 01011:33 }\n",
      "\n"
     ]
    }
   ],
   "source": [
    "import cudaq\n",
    "\n",
    "cudaq.set_target(\"nvidia-mqpu\")\n",
    "target = cudaq.get_target()\n",
    "qpu_count = target.num_qpus()\n",
    "print(\"Number of QPUs:\", qpu_count)\n",
    "\n",
    "\n",
    "@cudaq.kernel\n",
    "def kernel(qubit_count: int):\n",
    "    qvector = cudaq.qvector(qubit_count)\n",
    "    # Place qubits in superposition state.\n",
    "    h(qvector)\n",
    "    # Measure.\n",
    "    mz(qvector)\n",
    "\n",
    "\n",
    "count_futures = []\n",
    "for qpu in range(qpu_count):\n",
    "    count_futures.append(cudaq.sample_async(kernel, 5, qpu_id=qpu))\n",
    "\n",
    "for counts in count_futures:\n",
    "    print(counts.get())"
   ]
  },
  {
   "cell_type": "code",
   "execution_count": null,
   "id": "afbf9397-10b6-4a60-9a41-5379ad0387ab",
   "metadata": {},
   "outputs": [],
   "source": []
  }
 ],
 "metadata": {
  "kernelspec": {
   "display_name": "NERSC Python",
   "language": "python",
   "name": "python3"
  },
  "language_info": {
   "codemirror_mode": {
    "name": "ipython",
    "version": 3
   },
   "file_extension": ".py",
   "mimetype": "text/x-python",
   "name": "python",
   "nbconvert_exporter": "python",
   "pygments_lexer": "ipython3",
   "version": "3.11.7"
  }
 },
 "nbformat": 4,
 "nbformat_minor": 5
}
