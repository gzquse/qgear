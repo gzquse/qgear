{
 "cells": [
  {
   "cell_type": "code",
   "execution_count": 1,
   "id": "2a2ba149-4054-47b7-9e6b-ead7be723bec",
   "metadata": {
    "tags": []
   },
   "outputs": [
    {
     "ename": "RuntimeError",
     "evalue": "No MPI support can be found when attempted to use cudaq::mpi APIs. Please refer to the documentation for instructions to activate MPI support.",
     "output_type": "error",
     "traceback": [
      "\u001b[0;31m---------------------------------------------------------------------------\u001b[0m",
      "\u001b[0;31mRuntimeError\u001b[0m                              Traceback (most recent call last)",
      "Cell \u001b[0;32mIn[1], line 4\u001b[0m\n\u001b[1;32m      1\u001b[0m \u001b[38;5;28;01mimport\u001b[39;00m \u001b[38;5;21;01mcudaq\u001b[39;00m\n\u001b[1;32m      3\u001b[0m \u001b[38;5;66;03m# Initialize MPI\u001b[39;00m\n\u001b[0;32m----> 4\u001b[0m \u001b[43mcudaq\u001b[49m\u001b[38;5;241;43m.\u001b[39;49m\u001b[43mmpi\u001b[49m\u001b[38;5;241;43m.\u001b[39;49m\u001b[43minitialize\u001b[49m\u001b[43m(\u001b[49m\u001b[43m)\u001b[49m\n\u001b[1;32m      6\u001b[0m \u001b[38;5;66;03m# Get the rank of the current process\u001b[39;00m\n\u001b[1;32m      7\u001b[0m rank \u001b[38;5;241m=\u001b[39m cudaq\u001b[38;5;241m.\u001b[39mmpi\u001b[38;5;241m.\u001b[39mrank()\n",
      "\u001b[0;31mRuntimeError\u001b[0m: No MPI support can be found when attempted to use cudaq::mpi APIs. Please refer to the documentation for instructions to activate MPI support."
     ]
    }
   ],
   "source": [
    "import cudaq\n",
    "\n",
    "# Initialize MPI\n",
    "cudaq.mpi.initialize()\n",
    "\n",
    "# Get the rank of the current process\n",
    "rank = cudaq.mpi.rank()\n",
    "\n",
    "print(f\"Process rank: {rank}\")\n",
    "\n",
    "# Finalize MPI\n",
    "cudaq.mpi.finalize()\n"
   ]
  },
  {
   "cell_type": "code",
   "execution_count": 3,
   "id": "d5cdcdd9-24f2-4d91-a058-8042208ce828",
   "metadata": {},
   "outputs": [
    {
     "name": "stdout",
     "output_type": "stream",
     "text": [
      "Shots: 500500, Success: True, Memory used: 428 MB, Memory free: 39492 MB\n",
      "Shots: 750250, Success: True, Memory used: 0 MB, Memory free: 39492 MB\n",
      "Shots: 875125, Success: True, Memory used: 0 MB, Memory free: 39492 MB\n",
      "Shots: 937563, Success: True, Memory used: 0 MB, Memory free: 39492 MB\n",
      "Shots: 968782, Success: True, Memory used: 0 MB, Memory free: 39492 MB\n",
      "Shots: 984391, Success: True, Memory used: 0 MB, Memory free: 39492 MB\n",
      "Shots: 992196, Success: True, Memory used: 0 MB, Memory free: 39492 MB\n",
      "Shots: 996098, Success: True, Memory used: 0 MB, Memory free: 39492 MB\n",
      "Shots: 998049, Success: True, Memory used: 0 MB, Memory free: 39492 MB\n",
      "Shots: 999025, Success: True, Memory used: 0 MB, Memory free: 39492 MB\n",
      "Shots: 999513, Success: True, Memory used: 0 MB, Memory free: 39492 MB\n",
      "Shots: 999757, Success: True, Memory used: 0 MB, Memory free: 39492 MB\n",
      "Shots: 999879, Success: True, Memory used: 0 MB, Memory free: 39492 MB\n",
      "Shots: 999940, Success: True, Memory used: 0 MB, Memory free: 39492 MB\n",
      "Shots: 999970, Success: True, Memory used: 0 MB, Memory free: 39492 MB\n",
      "Shots: 999985, Success: True, Memory used: 0 MB, Memory free: 39492 MB\n",
      "Shots: 999993, Success: True, Memory used: 0 MB, Memory free: 39492 MB\n",
      "Shots: 999997, Success: True, Memory used: 0 MB, Memory free: 39492 MB\n",
      "Shots: 999999, Success: True, Memory used: 0 MB, Memory free: 39492 MB\n",
      "Shots: 1000000, Success: True, Memory used: 0 MB, Memory free: 39492 MB\n",
      "Maximum shots without segmentation fault: 1000000\n"
     ]
    }
   ],
   "source": [
    "import subprocess\n",
    "import cudaq\n",
    "\n",
    "qubit_count = 32\n",
    "def get_gpu_memory_usage():\n",
    "    result = subprocess.run(['nvidia-smi', '--query-gpu=memory.used,memory.free', '--format=csv,noheader,nounits'],\n",
    "                            stdout=subprocess.PIPE, stderr=subprocess.PIPE, text=True)\n",
    "    if result.returncode != 0:\n",
    "        raise RuntimeError(f\"Error querying GPU memory: {result.stderr}\")\n",
    "    memory_used, memory_free = map(int, result.stdout.strip().split(', '))\n",
    "    return memory_used, memory_free\n",
    "\n",
    "def run_quantum_circuit(shots):\n",
    "    try:\n",
    "        # Initialize your quantum circuit here\n",
    "        @cudaq.kernel\n",
    "        def kernel(qubit_count: int):\n",
    "            qvector = cudaq.qvector(qubit_count)\n",
    "            h(qvector)\n",
    "            for qubit in range(qubit_count - 1):\n",
    "                x.ctrl(qvector[qubit], qvector[qubit + 1])\n",
    "            mz(qvector)\n",
    "        result = cudaq.sample(kernel, qubit_count, shots_count=shots)\n",
    "        return True\n",
    "    except RuntimeError as e:\n",
    "        print(f\"Runtime error with {shots} shots: {e}\")\n",
    "        return False\n",
    "    except Exception as e:\n",
    "        print(f\"Unexpected error with {shots} shots: {e}\")\n",
    "        return False\n",
    "\n",
    "def binary_search_max_shots(low, high):\n",
    "    while low <= high:\n",
    "        mid = (low + high) // 2\n",
    "        memory_used_before, memory_free_before = get_gpu_memory_usage()\n",
    "        success = run_quantum_circuit(mid)\n",
    "        memory_used_after, memory_free_after = get_gpu_memory_usage()\n",
    "\n",
    "        print(f\"Shots: {mid}, Success: {success}, Memory used: {memory_used_after - memory_used_before} MB, Memory free: {memory_free_after} MB\")\n",
    "        \n",
    "        if success:\n",
    "            low = mid + 1\n",
    "        else:\n",
    "            high = mid - 1\n",
    "    return high\n",
    "\n",
    "# Initial range for binary search\n",
    "low_shots = 1000\n",
    "high_shots = 1050000\n",
    "\n",
    "max_shots = binary_search_max_shots(low_shots, high_shots)\n",
    "print(f\"Maximum shots without segmentation fault: {max_shots}\")\n"
   ]
  },
  {
   "cell_type": "code",
   "execution_count": null,
   "id": "828d68d2-8967-4653-a424-b4ecbec6a6d4",
   "metadata": {},
   "outputs": [],
   "source": []
  }
 ],
 "metadata": {
  "kernelspec": {
   "display_name": "cuQuantum",
   "language": "python",
   "name": "cuquantum"
  },
  "language_info": {
   "codemirror_mode": {
    "name": "ipython",
    "version": 3
   },
   "file_extension": ".py",
   "mimetype": "text/x-python",
   "name": "python",
   "nbconvert_exporter": "python",
   "pygments_lexer": "ipython3",
   "version": "3.8.13"
  }
 },
 "nbformat": 4,
 "nbformat_minor": 5
}
