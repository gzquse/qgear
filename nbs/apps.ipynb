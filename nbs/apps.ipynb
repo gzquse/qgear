{
 "cells": [
  {
   "cell_type": "code",
   "execution_count": null,
   "metadata": {},
   "outputs": [
    {
     "name": "stderr",
     "output_type": "stream",
     "text": [
      "sh: /pscratch/sd/g/gzquse/cudaq/lib/libtinfo.so.6: no version information available (required by /lib64/libreadline.so.7)\n",
      "sh: /pscratch/sd/g/gzquse/cudaq/lib/libtinfo.so.6: no version information available (required by /lib64/libreadline.so.7)\n"
     ]
    }
   ],
   "source": [
    "#| hide\n",
    "from qgear.core import generate_random_gateList, generate_random"
   ]
  },
  {
   "cell_type": "code",
   "execution_count": null,
   "metadata": {},
   "outputs": [
    {
     "data": {
      "text/plain": [
       "({'circ_type': array([[3, 3]], dtype=int32),\n",
       "  'gate_type': array([[[2, 1, 0],\n",
       "          [3, 0, 1],\n",
       "          [4, 1, 0]]], dtype=int32),\n",
       "  'gate_param': array([[0.7726073, 2.6923583, 0.       ]], dtype=float32)},\n",
       " {'gate_map': {'h': 1, 'ry': 2, 'rz': 3, 'cx': 4, 'measure': 5},\n",
       "  'num_cx': 1,\n",
       "  'num_qubit': 3,\n",
       "  'num_gate': 3,\n",
       "  'num_circ': 1})"
      ]
     },
     "execution_count": null,
     "metadata": {},
     "output_type": "execute_result"
    }
   ],
   "source": [
    "generate_random_gateList(3, 1, 1)"
   ]
  },
  {
   "cell_type": "code",
   "execution_count": null,
   "metadata": {},
   "outputs": [
    {
     "name": "stdout",
     "output_type": "stream",
     "text": [
      "saving data as hdf5: /pscratch/sd/g/gzquse/qgear/nbs/circ/rcirc_68df59.gate_list.h5\n",
      "h5-write : circ_type (1, 2) int32\n",
      "h5-write : gate_type (1, 12, 3) int32\n",
      "h5-write : gate_param (1, 12) float32\n",
      "h5-write : meta.JSON as string (1,) object\n",
      "closed  hdf5: /pscratch/sd/g/gzquse/qgear/nbs/circ/rcirc_68df59.gate_list.h5  size=0.01 MB, elaT=0.0 sec\n",
      "{'gate_map': {'cx': 4, 'h': 1, 'measure': 5, 'ry': 2, 'rz': 3},\n",
      " 'hash': '68df59',\n",
      " 'num_circ': 1,\n",
      " 'num_cx': 4,\n",
      " 'num_gate': 12,\n",
      " 'num_qubit': 5,\n",
      " 'short_name': 'rcirc_68df59'}\n"
     ]
    },
    {
     "data": {
      "text/plain": [
       "'/pscratch/sd/g/gzquse/qgear/nbs/circ/rcirc_68df59.gate_list.h5'"
      ]
     },
     "execution_count": null,
     "metadata": {},
     "output_type": "execute_result"
    }
   ],
   "source": [
    "generate_random()"
   ]
  },
  {
   "cell_type": "code",
   "execution_count": null,
   "metadata": {},
   "outputs": [
    {
     "name": "stdout",
     "output_type": "stream",
     "text": [
      "read data from hdf5: /pscratch/sd/g/gzquse/qgear/nbs/circ/rcirc_0a89fd.gate_list.h5\n",
      "read obj: circ_type (1, 2) int32\n",
      "read obj: gate_param (1, 12) float32\n",
      "read obj: gate_type (1, 12, 3) int32\n",
      "read str: meta.JSON 1 <class 'numpy.ndarray'>\n",
      " done h5, num rec:3  elaT=0.0 sec\n",
      "  closed  yaml: /pscratch/sd/g/gzquse/qgear/nbs/meas/rcirc_0a89fd_adj-gpu_fp32.yaml  size=0.3 kB   elaT=0.0 sec\n",
      "M:done rcirc_0a89fd elaT=1755461516.8 sec\n",
      "{'date': '20250817_131156_PDT',\n",
      " 'elapsed_time': 1755461516.8493607,\n",
      " 'gate_map': {'cx': 4, 'h': 1, 'measure': 5, 'ry': 2, 'rz': 3},\n",
      " 'hash': '0a89fd',\n",
      " 'num_circ': 1,\n",
      " 'num_cx': 4,\n",
      " 'num_gate': 12,\n",
      " 'num_meas_strings': [4],\n",
      " 'num_qpus': 1,\n",
      " 'num_qubit': 5,\n",
      " 'num_shots': 1000,\n",
      " 'short_name': 'rcirc_0a89fd',\n",
      " 'target': 'nvidia',\n",
      " 'target2': 'adj-gpu'}\n"
     ]
    },
    {
     "data": {
      "text/plain": [
       "{'gate_map': {'h': 1, 'ry': 2, 'rz': 3, 'cx': 4, 'measure': 5},\n",
       " 'num_cx': 4,\n",
       " 'num_qubit': 5,\n",
       " 'num_gate': 12,\n",
       " 'num_circ': 1,\n",
       " 'hash': '0a89fd',\n",
       " 'short_name': 'rcirc_0a89fd',\n",
       " 'num_qpus': 1,\n",
       " 'elapsed_time': 1755461516.8493607,\n",
       " 'target': 'nvidia',\n",
       " 'date': '20250817_131156_PDT',\n",
       " 'num_meas_strings': [4],\n",
       " 'target2': 'adj-gpu',\n",
       " 'num_shots': 1000}"
      ]
     },
     "execution_count": null,
     "metadata": {},
     "output_type": "execute_result"
    }
   ],
   "source": [
    "from qgear.runner import run_gate_job\n",
    "run_gate_job(\n",
    "    exp=\"rcirc_0a89fd\",\n",
    "    backend=\"nvidia\",\n",
    "    numshots=1000\n",
    ")"
   ]
  },
  {
   "cell_type": "code",
   "execution_count": null,
   "metadata": {},
   "outputs": [
    {
     "name": "stdout",
     "output_type": "stream",
     "text": [
      "  read  yaml: /qgear/meas/rcirc_fdba43_adj-gpu_fp32.yaml\n",
      "PlotterBackbone: Running in Jupyter → using inline backend\n",
      "MetricsPlotter : Graphics started\n",
      "Graphics saving to  out/metrics_f2.png\n"
     ]
    },
    {
     "data": {
      "image/png": "[encoded data removed]",
      "text/plain": [
       "<Figure size 550x700 with 1 Axes>"
      ]
     },
     "metadata": {},
     "output_type": "display_data"
    }
   ],
   "source": [
    "from qgear.metrics_plotter import metrics_plot\n",
    "\n",
    "# Only specify the date folder(s)\n",
    "metrics_plot() "
   ]
  },
  {
   "cell_type": "code",
   "execution_count": null,
   "metadata": {},
   "outputs": [
    {
     "name": "stdout",
     "output_type": "stream",
     "text": [
      "Loading built-in image 'high-heels_x32_y32.png' from qgear/data/\n",
      "Metadata: {'image_name': 'high-heels_x32_y32', 'image_shape_xy': [32, 32], 'image_pixels': 1024, 'canned_type': 'gray_image'}\n",
      "Normalized image min/max: -1.0, 1.0\n",
      "Flattened image shape: (1024,), reshaped: (2, 512)\n",
      "saving data as hdf5: out/canImg_b2_32_32.qcrank_inp.h5\n",
      "h5-write : phys_image (32, 32) uint8\n",
      "h5-write : image_name as string (1,) object\n",
      "h5-write : norm_image (32, 32) float32\n",
      "h5-write : inp_udata (1, 2, 512) float32\n",
      "h5-write : inp_fdata (512, 2, 1) float32\n",
      "h5-write : meta.JSON as string (1,) object\n",
      "closed  hdf5: out/canImg_b2_32_32.qcrank_inp.h5  size=0.02 MB, elaT=0.0 sec\n",
      "Saved QCrank input: out/canImg_b2_32_32.qcrank_inp.h5\n",
      "read data from hdf5: out/canImg_b2_32_32.qcrank_inp.h5\n",
      "read str: image_name 1 <class 'numpy.ndarray'>\n",
      "read obj: inp_fdata (512, 2, 1) float32\n",
      "read obj: inp_udata (1, 2, 512) float32\n",
      "read str: meta.JSON 1 <class 'numpy.ndarray'>\n",
      "read obj: norm_image (32, 32) float32\n",
      "read obj: phys_image (32, 32) uint8\n",
      " done h5, num rec:5  elaT=0.0 sec\n",
      "{'canned': {'canned_type': 'gray_image',\n",
      "            'image_name': 'high-heels_x32_y32',\n",
      "            'image_pixels': 1024,\n",
      "            'image_shape_xy': [32, 32]},\n",
      " 'payload': {'nq_addr': 9,\n",
      "             'nq_fdata': 2,\n",
      "             'num_clbit': 11,\n",
      "             'num_sample': 1,\n",
      "             'qcrank_max_fval': 3.141592653589793,\n",
      "             'seq_len': 512},\n",
      " 'short_name': 'canImg_b2_32_32',\n",
      " 'submit': {'num_shots': 204800}}\n",
      "M: using backend=nvidia, total shots=204800\n",
      "M: circuit has 11 qubits\n",
      "circ_orig depth_aziz: {'cx': 512, '2q': 512, '3q': 0, '4q+': 2, '1q': 514} , ops: {'ry': 1024, 'cx': 1024, 'measure': 11, 'h': 9, 'barrier': 2, 'qubits': 11}\n",
      "circ_transpMeta:\n",
      "{'1q_gate_count': 1033,\n",
      " '2q_gate_count': 1024,\n",
      " '2q_gate_depth': 512,\n",
      " 'num_qubit': 11,\n",
      " 'phys_qubits': [0, 1, 2, 3, 4, 5, 6, 7, 8, 9, 10],\n",
      " 'transpile_backend': 'nvidia'}\n",
      "M: execution-ready 1 circuits on 11 qubits on nvidia\n",
      "qiskit_to_gateList: nGate 2070\n",
      "saving data as hdf5: out/canImg_b2_32_32.gate_list.h5\n",
      "h5-write : circ_type (1, 2) int32\n",
      "h5-write : gate_type (1, 2070, 3) int32\n",
      "h5-write : gate_param (1, 2070) float32\n",
      "h5-write : meta.JSON as string (1,) object\n",
      "closed  hdf5: out/canImg_b2_32_32.gate_list.h5  size=0.04 MB, elaT=0.0 sec\n",
      "read data from hdf5: out/canImg_b2_32_32.gate_list.h5\n",
      "read obj: circ_type (1, 2) int32\n",
      "read obj: gate_param (1, 2070) float32\n",
      "read obj: gate_type (1, 2070, 3) int32\n",
      "read str: meta.JSON 1 <class 'numpy.ndarray'>\n",
      " done h5, num rec:3  elaT=0.0 sec\n",
      "M: job canImg_b2_32_32 started, nCirc=1, nq=11, shots/circ=400, target=nvidia\n",
      "RCQ: done 1 nvidia, elapsed 0.85s\n"
     ]
    },
    {
     "ename": "ValueError",
     "evalue": "not enough values to unpack (expected 2, got 1)",
     "output_type": "error",
     "traceback": [
      "\u001b[0;31m---------------------------------------------------------------------------\u001b[0m",
      "\u001b[0;31mValueError\u001b[0m                                Traceback (most recent call last)",
      "Cell \u001b[0;32mIn[3], line 9\u001b[0m\n\u001b[1;32m      6\u001b[0m create_img(tag\u001b[38;5;241m=\u001b[39m\u001b[38;5;124m\"\u001b[39m\u001b[38;5;124mb2\u001b[39m\u001b[38;5;124m\"\u001b[39m, inp_path\u001b[38;5;241m=\u001b[39m\u001b[38;5;28;01mNone\u001b[39;00m, out_path\u001b[38;5;241m=\u001b[39m\u001b[38;5;124m\"\u001b[39m\u001b[38;5;124mout\u001b[39m\u001b[38;5;124m\"\u001b[39m)\n\u001b[1;32m      8\u001b[0m \u001b[38;5;66;03m# Step 2: Run simulation\u001b[39;00m\n\u001b[0;32m----> 9\u001b[0m \u001b[43mrun_qcrank\u001b[49m\u001b[43m(\u001b[49m\u001b[38;5;124;43m\"\u001b[39;49m\u001b[38;5;124;43mcanImg_b2_32_32\u001b[39;49m\u001b[38;5;124;43m\"\u001b[39;49m\u001b[43m,\u001b[49m\u001b[43m \u001b[49m\u001b[43minp_path\u001b[49m\u001b[38;5;241;43m=\u001b[39;49m\u001b[38;5;124;43m\"\u001b[39;49m\u001b[38;5;124;43mout\u001b[39;49m\u001b[38;5;124;43m\"\u001b[39;49m\u001b[43m,\u001b[49m\u001b[43m \u001b[49m\u001b[43mout_path\u001b[49m\u001b[38;5;241;43m=\u001b[39;49m\u001b[38;5;124;43m\"\u001b[39;49m\u001b[38;5;124;43mout\u001b[39;49m\u001b[38;5;124;43m\"\u001b[39;49m\u001b[43m,\u001b[49m\u001b[43m \u001b[49m\u001b[43mexp_name\u001b[49m\u001b[38;5;241;43m=\u001b[39;49m\u001b[38;5;124;43m\"\u001b[39;49m\u001b[38;5;124;43mcanImg_b2_32_32\u001b[39;49m\u001b[38;5;124;43m\"\u001b[39;49m\u001b[43m)\u001b[49m\n\u001b[1;32m     11\u001b[0m \u001b[38;5;66;03m# Step 3: Post-process and plot\u001b[39;00m\n\u001b[1;32m     12\u001b[0m process_qcrank_experiment(\u001b[38;5;124m\"\u001b[39m\u001b[38;5;124mcanImg_b2_32_32\u001b[39m\u001b[38;5;124m\"\u001b[39m, inp_path\u001b[38;5;241m=\u001b[39m\u001b[38;5;124m\"\u001b[39m\u001b[38;5;124mout\u001b[39m\u001b[38;5;124m\"\u001b[39m, out_path\u001b[38;5;241m=\u001b[39m\u001b[38;5;124m\"\u001b[39m\u001b[38;5;124mout\u001b[39m\u001b[38;5;124m\"\u001b[39m, show_plots\u001b[38;5;241m=\u001b[39m\u001b[38;5;124m\"\u001b[39m\u001b[38;5;124mabc\u001b[39m\u001b[38;5;124m\"\u001b[39m)\n",
      "File \u001b[0;32m/pscratch/sd/g/gzquse/qgear/qgear/runner.py:357\u001b[0m, in \u001b[0;36mrun_qcrank\u001b[0;34m(circ_name, inp_path, out_path, backend, num_shot_per_addr, exp_name, verb)\u001b[0m\n\u001b[1;32m    354\u001b[0m harvest_cudaq_backRun_submitMeta(expMD, backend, exp_name)\n\u001b[1;32m    356\u001b[0m \u001b[38;5;66;03m# Convert results\u001b[39;00m\n\u001b[0;32m--> 357\u001b[0m countsL \u001b[38;5;241m=\u001b[39m \u001b[43mcounts_cudaq_to_qiskit\u001b[49m\u001b[43m(\u001b[49m\u001b[43mresL\u001b[49m\u001b[43m)\u001b[49m\n\u001b[1;32m    358\u001b[0m pp0 \u001b[38;5;241m=\u001b[39m countsL[\u001b[38;5;241m0\u001b[39m]\n\u001b[1;32m    360\u001b[0m qa \u001b[38;5;241m=\u001b[39m {\n\u001b[1;32m    361\u001b[0m     \u001b[38;5;124m'\u001b[39m\u001b[38;5;124mstatus\u001b[39m\u001b[38;5;124m'\u001b[39m: \u001b[38;5;124m'\u001b[39m\u001b[38;5;124mJobStatus.DONE\u001b[39m\u001b[38;5;124m'\u001b[39m,\n\u001b[1;32m    362\u001b[0m     \u001b[38;5;124m'\u001b[39m\u001b[38;5;124mnum_circ\u001b[39m\u001b[38;5;124m'\u001b[39m: nCirc,\n\u001b[0;32m   (...)\u001b[0m\n\u001b[1;32m    368\u001b[0m     \u001b[38;5;124m'\u001b[39m\u001b[38;5;124mtime_taken\u001b[39m\u001b[38;5;124m'\u001b[39m: elaT\n\u001b[1;32m    369\u001b[0m }\n",
      "File \u001b[0;32m/pscratch/sd/g/gzquse/qgear/qgear/toolbox/Util_CudaQ.py:38\u001b[0m, in \u001b[0;36mcounts_cudaq_to_qiskit\u001b[0;34m(resL)\u001b[0m\n\u001b[1;32m     36\u001b[0m     buf \u001b[38;5;241m=\u001b[39m \u001b[38;5;124m\"\u001b[39m\u001b[38;5;124m\"\u001b[39m\n\u001b[1;32m     37\u001b[0m     buf \u001b[38;5;241m=\u001b[39m res\u001b[38;5;241m.\u001b[39m\u001b[38;5;21m__str__\u001b[39m()\n\u001b[0;32m---> 38\u001b[0m     probsBL[i] \u001b[38;5;241m=\u001b[39m \u001b[43mstring_to_dict\u001b[49m\u001b[43m(\u001b[49m\u001b[43mbuf\u001b[49m\u001b[43m)\u001b[49m\n\u001b[1;32m     39\u001b[0m \u001b[38;5;28;01mreturn\u001b[39;00m probsBL\n",
      "File \u001b[0;32m/pscratch/sd/g/gzquse/qgear/qgear/toolbox/Util_CudaQ.py:25\u001b[0m, in \u001b[0;36mstring_to_dict\u001b[0;34m(raw_string)\u001b[0m\n\u001b[1;32m     23\u001b[0m mapped_dict \u001b[38;5;241m=\u001b[39m {}\n\u001b[1;32m     24\u001b[0m \u001b[38;5;28;01mfor\u001b[39;00m item \u001b[38;5;129;01min\u001b[39;00m raw_list:\n\u001b[0;32m---> 25\u001b[0m     key, value \u001b[38;5;241m=\u001b[39m item\u001b[38;5;241m.\u001b[39msplit(\u001b[38;5;124m\"\u001b[39m\u001b[38;5;124m:\u001b[39m\u001b[38;5;124m\"\u001b[39m)\n\u001b[1;32m     26\u001b[0m     mapped_dict[key] \u001b[38;5;241m=\u001b[39m \u001b[38;5;28mint\u001b[39m(value)\n\u001b[1;32m     28\u001b[0m \u001b[38;5;66;03m# Create a new dictionary with reversed keys\u001b[39;00m\n",
      "\u001b[0;31mValueError\u001b[0m: not enough values to unpack (expected 2, got 1)"
     ]
    }
   ],
   "source": [
    "from qgear.image import create_img\n",
    "from qgear.runner import run_qcrank\n",
    "from qgear.plotter import process_qcrank_experiment\n",
    "\n",
    "# Step 1: Create input\n",
    "create_img(tag=\"b2\", inp_path=None, out_path=\"out\")\n",
    "\n",
    "# Step 2: Run simulation\n",
    "run_qcrank(\"canImg_b2_32_32\", inp_path=\"out\", out_path=\"out\", exp_name=\"canImg_b2_32_32\")\n",
    "\n",
    "# Step 3: Post-process and plot\n",
    "process_qcrank_experiment(\"canImg_b2_32_32\", inp_path=\"out\", out_path=\"out\", show_plots=\"abc\")"
   ]
  },
  {
   "cell_type": "code",
   "execution_count": null,
   "metadata": {},
   "outputs": [],
   "source": []
  }
 ],
 "metadata": {
  "kernelspec": {
   "display_name": "python3",
   "language": "python",
   "name": "python3"
  }
 },
 "nbformat": 4,
 "nbformat_minor": 4
}
