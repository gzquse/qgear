{
 "cells": [
  {
   "cell_type": "raw",
   "id": "8aa6c6e5",
   "metadata": {},
   "source": [
    "---\n",
    "{}\n",
    "\n",
    "---\n",
    "\n"
   ]
  },
  {
   "cell_type": "code",
   "execution_count": null,
   "id": "79302ab7",
   "metadata": {},
   "outputs": [],
   "source": [
    "#| default_exp cli"
   ]
  },
  {
   "cell_type": "markdown",
   "id": "d881f8de",
   "metadata": {},
   "source": [
    "### CLI"
   ]
  },
  {
   "cell_type": "code",
   "execution_count": null,
   "id": "230cb1b9",
   "metadata": {},
   "outputs": [],
   "source": [
    "#| export\n",
    "from rich.console import Console\n",
    "from rich.panel import Panel\n",
    "import pyfiglet\n",
    "\n",
    "def welcome():\n",
    "    \"\"\"Prints the QGEAR welcome banner to the console.\"\"\"\n",
    "    console = Console()\n",
    "\n",
    "    # Generate the ASCII art text\n",
    "    ascii_art = pyfiglet.figlet_format(\"Q GEAR\", font=\"standard\")\n",
    "\n",
    "    # Create a colorful message\n",
    "    message = (\n",
    "        f\"[bold cyan]{ascii_art}[/bold cyan]\\n\"\n",
    "        \"[bold green]Installation successful![/bold green]\\n\\n\"\n",
    "        \"Welcome to QGEAR. Run 'qgear.run_cudaq() to speed up\\n\"\n",
    "        \"[italic grey50]Fun fact: We love to use Emacs! 🐧[/italic grey50]\"\n",
    "    \n",
    "    )\n",
    "\n",
    "    # Display it in a nice panel\n",
    "    console.print(Panel(message, title=\"[bold yellow]Welcome[/bold yellow]\", border_style=\"dim blue\"))"
   ]
  },
  {
   "cell_type": "code",
   "execution_count": null,
   "id": "069c7dba",
   "metadata": {},
   "outputs": [],
   "source": []
  }
 ],
 "metadata": {
  "kernelspec": {
   "display_name": "Python 3 (ipykernel)",
   "language": "python",
   "name": "python3"
  },
  "language_info": {
   "codemirror_mode": {
    "name": "ipython",
    "version": 3
   },
   "file_extension": ".py",
   "mimetype": "text/x-python",
   "name": "python",
   "nbconvert_exporter": "python",
   "pygments_lexer": "ipython3",
   "version": "3.10.12"
  }
 },
 "nbformat": 4,
 "nbformat_minor": 5
}
