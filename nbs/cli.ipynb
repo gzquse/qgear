{
 "cells": [
  {
   "cell_type": "raw",
   "id": "fb726928",
   "metadata": {},
   "source": [
    "---\n",
    "{}\n",
    "\n",
    "---\n",
    "\n"
   ]
  },
  {
   "cell_type": "code",
   "execution_count": null,
   "id": "79302ab7",
   "metadata": {},
   "outputs": [],
   "source": [
    "#| default_exp cli"
   ]
  },
  {
   "cell_type": "markdown",
   "id": "d881f8de",
   "metadata": {},
   "source": [
    "### CLI"
   ]
  },
  {
   "cell_type": "code",
   "execution_count": null,
   "id": "230cb1b9",
   "metadata": {},
   "outputs": [],
   "source": [
    "#| export\n",
    "from rich.console import Console\n",
    "from rich.panel import Panel\n",
    "import pyfiglet\n",
    "\n",
    "def welcome():\n",
    "    \"\"\"Prints the QGEAR welcome banner to the console.\"\"\"\n",
    "    console = Console()\n",
    "\n",
    "    # Generate the ASCII art text\n",
    "    ascii_art = pyfiglet.figlet_format(\"Q GEAR\", font=\"standard\")\n",
    "\n",
    "    # Create a colorful message\n",
    "    message = (\n",
    "        f\"[bold cyan]{ascii_art}[/bold cyan]\\n\"\n",
    "        \"[bold green]Installation successful![/bold green]\\n\\n\"\n",
    "        \"Welcome to QGEAR. Run 'qgear.run_cudaq() to speed up\\n\"\n",
    "        \"[italic grey50]Fun fact: We love to use Emacs! 🐧[/italic grey50]\"\n",
    "    \n",
    "    )\n",
    "\n",
    "    # Display it in a nice panel\n",
    "    console.print(Panel(message, title=\"[bold yellow]Welcome[/bold yellow]\", border_style=\"dim blue\"))"
   ]
  },
  {
   "cell_type": "code",
   "execution_count": null,
   "id": "069c7dba",
   "metadata": {},
   "outputs": [],
   "source": []
  }
 ],
 "metadata": {},
 "nbformat": 4,
 "nbformat_minor": 5
}
