{
 "cells": [
  {
   "cell_type": "raw",
   "metadata": {},
   "source": [
    "---\n",
    "output-file: core.html\n",
    "title: Core\n",
    "\n",
    "---\n",
    "\n"
   ]
  },
  {
   "cell_type": "code",
   "execution_count": null,
   "metadata": {},
   "outputs": [],
   "source": [
    "#| default_exp core"
   ]
  },
  {
   "cell_type": "code",
   "execution_count": null,
   "metadata": {},
   "outputs": [],
   "source": [
    "#| hide\n",
    "from nbdev.showdoc import *"
   ]
  },
  {
   "cell_type": "code",
   "execution_count": null,
   "metadata": {},
   "outputs": [],
   "source": [
    "#| export\n",
    "import os, hashlib\n",
    "import numpy as np\n",
    "from time import time\n",
    "from pprint import pprint\n",
    "from typing import Tuple, Dict, Any\n",
    "import os, hashlib\n",
    "from qgear.toolbox.Util_H5io4 import write4_data_hdf5"
   ]
  },
  {
   "cell_type": "code",
   "execution_count": null,
   "metadata": {},
   "outputs": [],
   "source": [
    "#| export\n",
    "def prepare_args(args):\n",
    "    \"Process arguments and ensure output directories exist\"\n",
    "    import os\n",
    "    if args.basePath == 'env':\n",
    "        args.basePath = os.environ['Cudaq_dataVault']\n",
    "    if args.basePath and args.outPath:\n",
    "        args.outPath = os.path.join(args.basePath, 'circ')\n",
    "    os.makedirs(args.outPath, exist_ok=True)\n",
    "    assert args.numQubits >= 2\n",
    "    return args"
   ]
  },
  {
   "cell_type": "code",
   "execution_count": null,
   "metadata": {},
   "outputs": [],
   "source": [
    "#| export\n",
    "def show_CX_block():\n",
    "    \"Display a CX-block circuit with parameters θ and φ\"\n",
    "    from qiskit import QuantumCircuit\n",
    "    from qiskit.circuit import Parameter\n",
    "    theta = Parameter('θ')\n",
    "    phi = Parameter('φ')\n",
    "    qc = QuantumCircuit(2)\n",
    "    qc.barrier()\n",
    "    qc.ry(theta, 0)\n",
    "    qc.rz(phi, 1)\n",
    "    qc.cx(0, 1)\n",
    "    qc.barrier()\n",
    "    print(qc.draw())"
   ]
  },
  {
   "cell_type": "code",
   "execution_count": null,
   "metadata": {},
   "outputs": [],
   "source": [
    "#| export\n",
    "def random_qubit_pairs(nq:int, k:int):\n",
    "    \"Generate k random ordered qubit pairs from nq qubits\"\n",
    "    all_pairs = np.array([(i, j) for i in range(nq) for j in range(nq) if i != j])\n",
    "    selected_indices = np.random.choice(len(all_pairs), k, replace=True)\n",
    "    return all_pairs[selected_indices]"
   ]
  },
  {
   "cell_type": "code",
   "execution_count": null,
   "metadata": {},
   "outputs": [],
   "source": [
    "#| export\n",
    "def generate_random_gateList(numQubits:int, numCX:int, numCirc:int):\n",
    "    \"Generate random CX-block circuits and return data, metadata\"\n",
    "    nGate = 3 * numCX\n",
    "    m = {'h': 1, 'ry': 2, 'rz': 3, 'cx': 4, 'measure': 5}\n",
    "    circ_type = np.zeros((numCirc, 2), dtype=np.int32)\n",
    "    gate_type = np.zeros((numCirc, nGate, 3), dtype=np.int32)\n",
    "    gate_param = np.random.uniform(0, np.pi, size=(numCirc, nGate)).astype(np.float32)\n",
    "    t_ry = np.full((numCX, 1), m['ry'])\n",
    "    t_rz = np.full((numCX, 1), m['rz'])\n",
    "    t_cx = np.full((numCX, 1), m['cx'])\n",
    "\n",
    "    for j in range(numCirc):\n",
    "        qpairs = random_qubit_pairs(numQubits, numCX)\n",
    "        rpairs = qpairs[:, ::-1]\n",
    "        circ_type[j] = [numQubits, nGate]\n",
    "        gate_type[j, 0::3] = np.concatenate((t_ry, qpairs), axis=1)\n",
    "        gate_type[j, 1::3] = np.concatenate((t_rz, rpairs), axis=1)\n",
    "        gate_type[j, 2::3] = np.concatenate((t_cx, qpairs), axis=1)\n",
    "        gate_param[j, 2::3] = 0\n",
    "\n",
    "    outD = {'circ_type': circ_type, 'gate_type': gate_type, 'gate_param': gate_param}\n",
    "    md = {'gate_map': m, 'num_cx': numCX, 'num_qubit': numQubits,\n",
    "          'num_gate': nGate, 'num_circ': numCirc}\n",
    "    return outD, md"
   ]
  },
  {
   "cell_type": "code",
   "execution_count": null,
   "metadata": {},
   "outputs": [],
   "source": [
    "#| export\n",
    "def generate_random(\n",
    "    numCX:int = 4,\n",
    "    numCirc:int = 1,\n",
    "    numQubits:int = 5,\n",
    "    expName:str = None,\n",
    "    basePath:str = None,\n",
    "    outPath:str = None\n",
    "):\n",
    "    \"\"\"\n",
    "    High-level wrapper: generate random CX-block circuits and save to HDF5.\n",
    "\n",
    "    Args:\n",
    "        numCX: Number of CX gates per circuit (default=4)\n",
    "        numCirc: Number of circuits to generate (default=1)\n",
    "        numQubits: Number of qubits in each circuit (default=5)\n",
    "        expName: Optional experiment name; if None, a random hash is used\n",
    "        basePath: Base directory for storing results; if None, defaults to `$Cudaq_dataVault`\n",
    "        outPath: Optional override for output directory; if None, defaults to `<basePath>/circ`\n",
    "\n",
    "    Returns:\n",
    "        Path to the generated `.gate_list.h5` file\n",
    "    \"\"\"\n",
    "\n",
    "    # Generate circuit data\n",
    "    outD, md = generate_random_gateList(numQubits, numCX, numCirc)\n",
    "    md['hash'] = hashlib.md5(os.urandom(32)).hexdigest()[:6]\n",
    "    md['short_name'] = expName if expName else f\"rcirc_{md['hash']}\"\n",
    "\n",
    "    # Resolve base path\n",
    "    if basePath is None or basePath == 'env':\n",
    "        basePath = os.environ.get('Cudaq_dataVault', os.getcwd())  # fallback to current dir\n",
    "    # Resolve output path\n",
    "    if outPath is None:\n",
    "        outPath = os.path.join(basePath, 'circ')\n",
    "    os.makedirs(outPath, exist_ok=True)\n",
    "\n",
    "    # Save to HDF5\n",
    "    outF = os.path.join(outPath, f\"{md['short_name']}.gate_list.h5\")\n",
    "    write4_data_hdf5(outD, outF, md)\n",
    "    pprint(md)\n",
    "    return outF"
   ]
  },
  {
   "cell_type": "code",
   "execution_count": null,
   "metadata": {},
   "outputs": [],
   "source": [
    "#| export\n",
    "def save_gateList(outD:Dict[str,Any], md:Dict[str,Any], outPath:str, expName:str=None):\n",
    "    \"Save generated gate list to HDF5 file\"\n",
    "    from Util_H5io4 import write4_data_hdf5\n",
    "    md['hash'] = hashlib.md5(os.urandom(32)).hexdigest()[:6]\n",
    "    md['short_name'] = expName if expName else f\"rcirc_{md['hash']}\"\n",
    "    outF = os.path.join(outPath, f\"{md['short_name']}.gate_list.h5\")\n",
    "    write4_data_hdf5(outD, outF, md)\n",
    "    pprint(md)\n",
    "    return outF"
   ]
  },
  {
   "cell_type": "code",
   "execution_count": null,
   "metadata": {},
   "outputs": [
    {
     "name": "stdout",
     "output_type": "stream",
     "text": [
      "saving data as hdf5: /qgear/circ/rcirc_fdba43.gate_list.h5\n",
      "h5-write : circ_type (1, 2) int32\n",
      "h5-write : gate_type (1, 12, 3) int32\n",
      "h5-write : gate_param (1, 12) float32\n",
      "h5-write : meta.JSON as string (1,) object\n",
      "closed  hdf5: /qgear/circ/rcirc_fdba43.gate_list.h5  size=0.01 MB, elaT=0.0 sec\n",
      "{'gate_map': {'cx': 4, 'h': 1, 'measure': 5, 'ry': 2, 'rz': 3},\n",
      " 'hash': 'fdba43',\n",
      " 'num_circ': 1,\n",
      " 'num_cx': 4,\n",
      " 'num_gate': 12,\n",
      " 'num_qubit': 5,\n",
      " 'short_name': 'rcirc_fdba43'}\n"
     ]
    },
    {
     "data": {
      "text/plain": [
       "'/qgear/circ/rcirc_fdba43.gate_list.h5'"
      ]
     },
     "execution_count": null,
     "metadata": {},
     "output_type": "execute_result"
    }
   ],
   "source": [
    "generate_random()"
   ]
  },
  {
   "cell_type": "code",
   "execution_count": null,
   "metadata": {},
   "outputs": [],
   "source": [
    "#| hide\n",
    "import nbdev; nbdev.nbdev_export()"
   ]
  },
  {
   "cell_type": "code",
   "execution_count": null,
   "metadata": {},
   "outputs": [],
   "source": [
    "!nbdev_export"
   ]
  },
  {
   "cell_type": "code",
   "execution_count": null,
   "metadata": {},
   "outputs": [],
   "source": []
  }
 ],
 "metadata": {
  "kernelspec": {
   "display_name": "python3",
   "language": "python",
   "name": "python3"
  }
 },
 "nbformat": 4,
 "nbformat_minor": 4
}
