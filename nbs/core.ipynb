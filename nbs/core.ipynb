{
 "cells": [
  {
   "cell_type": "raw",
   "metadata": {},
   "source": [
    "---\n",
    "output-file: core.html\n",
    "title: Core\n",
    "\n",
    "---\n",
    "\n"
   ]
  },
  {
   "cell_type": "code",
   "execution_count": null,
   "metadata": {},
   "outputs": [],
   "source": [
    "#| default_exp core"
   ]
  },
  {
   "cell_type": "code",
   "execution_count": null,
   "metadata": {},
   "outputs": [],
   "source": [
    "#| hide\n",
    "from nbdev.showdoc import *"
   ]
  },
  {
   "cell_type": "code",
   "execution_count": null,
   "metadata": {},
   "outputs": [],
   "source": [
    "#| export\n",
    "import os, hashlib\n",
    "import numpy as np\n",
    "from time import time\n",
    "from pprint import pprint\n",
    "from typing import Tuple, Dict, Any\n",
    "import os, hashlib\n",
    "from qgear.toolbox.Util_H5io4 import write4_data_hdf5"
   ]
  },
  {
   "cell_type": "code",
   "execution_count": null,
   "metadata": {},
   "outputs": [],
   "source": [
    "#| export\n",
    "def show_CX_block():\n",
    "    \"Display a CX-block circuit with parameters θ and φ\"\n",
    "    from qiskit import QuantumCircuit\n",
    "    from qiskit.circuit import Parameter\n",
    "    theta = Parameter('θ')\n",
    "    phi = Parameter('φ')\n",
    "    qc = QuantumCircuit(2)\n",
    "    qc.barrier()\n",
    "    qc.ry(theta, 0)\n",
    "    qc.rz(phi, 1)\n",
    "    qc.cx(0, 1)\n",
    "    qc.barrier()\n",
    "    print(qc.draw())"
   ]
  },
  {
   "cell_type": "code",
   "execution_count": null,
   "metadata": {},
   "outputs": [],
   "source": [
    "#| export\n",
    "def random_qubit_pairs(nq:int, k:int):\n",
    "    \"Generate k random ordered qubit pairs from nq qubits\"\n",
    "    all_pairs = np.array([(i, j) for i in range(nq) for j in range(nq) if i != j])\n",
    "    selected_indices = np.random.choice(len(all_pairs), k, replace=True)\n",
    "    return all_pairs[selected_indices]"
   ]
  },
  {
   "cell_type": "code",
   "execution_count": null,
   "metadata": {},
   "outputs": [],
   "source": [
    "#| export\n",
    "def generate_random_gateList(numQubits:int, numCX:int, numCirc:int):\n",
    "    \"Generate random CX-block circuits and return data, metadata\"\n",
    "    nGate = 3 * numCX\n",
    "    m = {'h': 1, 'ry': 2, 'rz': 3, 'cx': 4, 'measure': 5}\n",
    "    circ_type = np.zeros((numCirc, 2), dtype=np.int32)\n",
    "    gate_type = np.zeros((numCirc, nGate, 3), dtype=np.int32)\n",
    "    gate_param = np.random.uniform(0, np.pi, size=(numCirc, nGate)).astype(np.float32)\n",
    "    t_ry = np.full((numCX, 1), m['ry'])\n",
    "    t_rz = np.full((numCX, 1), m['rz'])\n",
    "    t_cx = np.full((numCX, 1), m['cx'])\n",
    "\n",
    "    for j in range(numCirc):\n",
    "        qpairs = random_qubit_pairs(numQubits, numCX)\n",
    "        rpairs = qpairs[:, ::-1]\n",
    "        circ_type[j] = [numQubits, nGate]\n",
    "        gate_type[j, 0::3] = np.concatenate((t_ry, qpairs), axis=1)\n",
    "        gate_type[j, 1::3] = np.concatenate((t_rz, rpairs), axis=1)\n",
    "        gate_type[j, 2::3] = np.concatenate((t_cx, qpairs), axis=1)\n",
    "        gate_param[j, 2::3] = 0\n",
    "\n",
    "    outD = {'circ_type': circ_type, 'gate_type': gate_type, 'gate_param': gate_param}\n",
    "    md = {'gate_map': m, 'num_cx': numCX, 'num_qubit': numQubits,\n",
    "          'num_gate': nGate, 'num_circ': numCirc}\n",
    "    return outD, md"
   ]
  },
  {
   "cell_type": "code",
   "execution_count": null,
   "metadata": {},
   "outputs": [],
   "source": [
    "#| export\n",
    "def save_gateList(outD:Dict[str,Any], md:Dict[str,Any], outPath:str, expName:str=None):\n",
    "    \"Save generated gate list to HDF5 file\"\n",
    "    from Util_H5io4 import write4_data_hdf5\n",
    "    md['hash'] = hashlib.md5(os.urandom(32)).hexdigest()[:6]\n",
    "    md['short_name'] = expName if expName else f\"rcirc_{md['hash']}\"\n",
    "    outF = os.path.join(outPath, f\"{md['short_name']}.gate_list.h5\")\n",
    "    write4_data_hdf5(outD, outF, md)\n",
    "    pprint(md)\n",
    "    return outF"
   ]
  },
  {
   "cell_type": "code",
   "execution_count": null,
   "metadata": {},
   "outputs": [],
   "source": [
    "#| export\n",
    "def get_gpu_info(verb=1):\n",
    "    import pynvml\n",
    "    pynvml.nvmlInit()\n",
    "    device_count = pynvml.nvmlDeviceGetCount()\n",
    "    \n",
    "    for i in range(device_count):\n",
    "        handle = pynvml.nvmlDeviceGetHandleByIndex(i)\n",
    "\n",
    "        # Get PCI bus ID\n",
    "        pci_bus_id_raw = pynvml.nvmlDeviceGetPciInfo(handle).busId\n",
    "        pci_bus_id = pci_bus_id_raw.decode('utf-8') if isinstance(pci_bus_id_raw, bytes) else pci_bus_id_raw\n",
    "\n",
    "        # Get GPU model name\n",
    "        model_name_raw = pynvml.nvmlDeviceGetName(handle)\n",
    "        model_name = model_name_raw.decode('utf-8') if isinstance(model_name_raw, bytes) else model_name_raw\n",
    "\n",
    "        # Get memory info\n",
    "        memory_info = pynvml.nvmlDeviceGetMemoryInfo(handle)\n",
    "        total_memory = memory_info.total / (1024 ** 2)  # MB\n",
    "        used_memory = memory_info.used / (1024 ** 2)    # MB\n",
    "        free_memory = memory_info.free / (1024 ** 2)    # MB\n",
    "\n",
    "        memGB = float('%.1f' % (total_memory / 1000.))\n",
    "\n",
    "        if i == 0:\n",
    "            md = {'gpu_model': model_name, 'tot_mem_gb': memGB, 'pci_bus': [pci_bus_id]}\n",
    "        else:\n",
    "            md['pci_bus'].append(pci_bus_id)\n",
    "\n",
    "        if verb > 1:\n",
    "            print(f\"{i}  {model_name}   bus_id: {pci_bus_id}\")\n",
    "            print(f\"Total Memory: {total_memory:.2f} MB\")\n",
    "            print(f\"Used Memory: {used_memory:.2f} MB\")\n",
    "            print(f\"Free Memory: {free_memory:.2f} MB\")\n",
    "            print()\n",
    "    \n",
    "    md['device_count'] = device_count\n",
    "    pynvml.nvmlShutdown()\n",
    "    return md"
   ]
  }
 ],
 "metadata": {
  "kernelspec": {
   "display_name": "python3",
   "language": "python",
   "name": "python3"
  }
 },
 "nbformat": 4,
 "nbformat_minor": 4
}
